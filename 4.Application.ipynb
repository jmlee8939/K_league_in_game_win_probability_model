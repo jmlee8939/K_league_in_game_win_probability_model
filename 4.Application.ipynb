{
 "cells": [
  {
   "cell_type": "code",
   "execution_count": 1,
   "metadata": {},
   "outputs": [
    {
     "name": "stderr",
     "output_type": "stream",
     "text": [
      "/Users/jaeminiman/anaconda3/envs/pytorch/lib/python3.11/site-packages/pandas/core/arrays/masked.py:60: UserWarning: Pandas requires version '1.3.6' or newer of 'bottleneck' (version '1.3.5' currently installed).\n",
      "  from pandas.core import (\n"
     ]
    }
   ],
   "source": [
    "import re\n",
    "import numpy as np\n",
    "import pandas as pd\n",
    "import matplotlib.pyplot as plt\n",
    "import seaborn as sns\n",
    "from model.model import bayesian_model\n",
    "\n",
    "import warnings\n",
    "warnings.simplefilter(action='ignore', category=FutureWarning) \n",
    "\n",
    "plt.rcParams['font.family'] ='AppleGothic'\n",
    "plt.rcParams['axes.unicode_minus'] =False"
   ]
  },
  {
   "cell_type": "code",
   "execution_count": 2,
   "metadata": {},
   "outputs": [],
   "source": [
    "model = bayesian_model('./results/parameters.pkl')"
   ]
  },
  {
   "cell_type": "code",
   "execution_count": 3,
   "metadata": {},
   "outputs": [
    {
     "data": {
      "text/plain": [
       "<bound method bayesian_model.predict of <model.model.bayesian_model object at 0x153271fd0>>"
      ]
     },
     "execution_count": 3,
     "metadata": {},
     "output_type": "execute_result"
    }
   ],
   "source": [
    "model.predict"
   ]
  },
  {
   "cell_type": "markdown",
   "metadata": {},
   "source": [
    "#### 예시 경기 : 전북 VS 울산 (하나은행 k-league 4round)\n",
    "- 경기일 : 2024/03/30\n",
    "- 홈팀 : 전북\n",
    "- 결과 : 2:2"
   ]
  },
  {
   "cell_type": "code",
   "execution_count": 4,
   "metadata": {},
   "outputs": [],
   "source": [
    " \n",
    "event_str = \"\"\"\n",
    "후반 50분  후반종료\n",
    "후반 49분  울산 : (27)이청용 코너킥\n",
    "후반 46분  울산 : (8)이규성 골키퍼선방\n",
    "후반 44분  전북 : (28)맹성웅 파울\n",
    "후반 43분  전북 : (25)최철순 파울\n",
    "후반 42분  전북 : (39)김태환 교체 - (25)최철순 IN\n",
    "후반 42분  전북 : (9)티아고 교체 - (30)이규동 IN\n",
    "후반 41분  울산 : (8)이규성 코너킥\n",
    "후반 37분  울산 : (27)이청용 코너킥\n",
    "후반 33분  울산 : (6)보야니치 교체 - (27)이청용 IN\n",
    "후반 32분  울산 : (13)이명재 슈팅\n",
    "후반 31분  전북 : (27)문선민 슈팅\n",
    "후반 30분  전북 : (11)이동준 슈팅\n",
    "후반 25분  울산 : (10)김민우 교체 - (28)장시영 IN\n",
    "후반 24분  전북 : (27)문선민 득점 / [도움] (9)티아고\n",
    "후반 23분  울산 : (21)조현우 경고 (경기지연)\n",
    "후반 22분  전북 : (11)이동준 슈팅\n",
    "후반 22분  전북 : (23)김진수 코너킥\n",
    "후반 20분  울산 : (10)김민우 파울\n",
    "후반 19분  전북 : (28)맹성웅 파울\n",
    "후반 18분  전북 : (6)이수빈 교체 - (28)맹성웅 IN\n",
    "후반 17분  울산 : (10)김민우 코너킥\n",
    "후반 16분  전북 : (11)이동준 경고 (항의)\n",
    "후반 14분  울산 : (11)엄원상 골키퍼선방\n",
    "후반 14분  울산 : (14)이동경 교체 - (11)엄원상 IN\n",
    "후반 14분  울산 : (96)김지현 교체 - (18)주민규 IN\n",
    "후반 13분  전북 : (11)이동준 오프사이드\n",
    "후반 13분  울산 : (8)이규성 슈팅\n",
    "후반 12분  울산 : (96)김지현 슈팅\n",
    "후반 11분  전북 : (15)구자룡 파울\n",
    "후반 10분  전북 : (11)이동준 슈팅\n",
    "후반 08분  울산 : (14)이동경 코너킥\n",
    "후반 05분  울산 : (96)김지현 슈팅\n",
    "후반 04분  전북 : (6)이수빈 파울\n",
    "후반 04분  전북 : (11)이동준 파울\n",
    "후반 02분  전북 : (9)티아고 포스트바 맏은 슈팅\n",
    "후반 01분  울산 : (21)조현우 파울\n",
    "후반 30초  울산 : (20)황석호 파울\n",
    "후반 00초  전북 : (29)이지훈 교체 - (27)문선민 IN\n",
    "후반 00초  울산 : (70)최강민 교체 - (66)설영우 IN\n",
    "후반  후반시작\n",
    "전반 50분  전반종료\n",
    "전반 48분  전북 : (23)김진수 코너킥\n",
    "전반 48분  전북 : (15)구자룡 슈팅\n",
    "전반 48분  전북 : (23)김진수 코너킥\n",
    "전반 47분  전북 : (9)티아고 슈팅\n",
    "전반 46분  전북 : (11)이동준 득점 / [도움] (23)김진수\n",
    "전반 44분  전북 : (11)이동준 파울\n",
    "전반 43분  울산 : (10)김민우 파울\n",
    "전반 42분  울산 : (14)이동경 슈팅\n",
    "전반 39분  울산 : (96)김지현 득점 / [도움] (8)이규성\n",
    "전반 38분  전북 : (11)이동준 파울\n",
    "전반 35분  전북 : (6)이수빈 경고 (지속적 경기규칙 위반)\n",
    "전반 35분  전북 : (6)이수빈 파울\n",
    "전반 33분  전북 : (3)정태욱 파울\n",
    "전반 30분  울산 : (13)이명재 파울\n",
    "전반 25분  전북 : (23)김진수 코너킥\n",
    "전반 24분  전북 : (23)김진수 골키퍼선방\n",
    "전반 23분  울산 : (6)보야니치 파울\n",
    "전반 21분  울산 : (14)이동경 득점\n",
    "전반 20분  울산 : (96)김지현 슈팅\n",
    "전반 17분  울산 : (14)이동경 슈팅\n",
    "전반 15분  울산 : (14)이동경 오프사이드\n",
    "전반 11분  울산 : (14)이동경 파울\n",
    "전반 09분  전북 : (11)이동준 슈팅\n",
    "전반 08분  전북 : (9)티아고 슈팅\n",
    "전반 08분  전북 : (4)박진섭 파울\n",
    "전반 06분  전북 : (6)이수빈 파울\n",
    "전반 05분  울산 : (20)황석호 경고 (경기지연)\n",
    "전반 05분  울산 : (20)황석호 파울\n",
    "전반 05분  울산 : (14)이동경 코너킥\n",
    "전반 04분  전북 : (26)홍정호 교체 - (3)정태욱 IN\n",
    "전반 03분  울산 : (17)루빅손 포스트바 맏은 슈팅\n",
    "전반 01분  울산 : (20)황석호 파울\n",
    "\"\"\""
   ]
  },
  {
   "cell_type": "code",
   "execution_count": 5,
   "metadata": {},
   "outputs": [],
   "source": [
    "home_team = '전북'\n",
    "away_team = '울산'\n",
    "events = event_str.split('\\n')\n",
    "event_df = []\n",
    "for e in events :\n",
    "    if  len(re.findall('코너킥|파울|골키퍼선방|코너킥|슈팅|득점|경고|퇴장', e)) > 0:\n",
    "        period = e.split(' ')[0]\n",
    "        minute = e.split(' ')[1].split('분')[0]\n",
    "        event = re.findall('코너킥|파울|골키퍼선방|코너킥|슈팅|득점|경고|퇴장', e)[0]\n",
    "        if '초' in minute:\n",
    "            minute = 0\n",
    "\n",
    "        period_dict = {'전반':1, '후반':2}\n",
    "        event_dict = {'코너킥':'Corner', '파울':'Foul Committed','슈팅':'Shot', \n",
    "                      '득점':'Goal', '경고':'Yellow Card', '퇴장':'Red Card', '골키퍼선방' :'Shot'}\n",
    "        t_df = {'period' : period_dict[period], 'minute' : int(minute), 'feature_type': event_dict[event]}\n",
    "        if len(re.findall(home_team, e)) > 0:\n",
    "            t_df['team_name'] = home_team\n",
    "            event_df.append(t_df)\n",
    "        elif len(re.findall(away_team, e)) > 0:\n",
    "            t_df['team_name'] = away_team\n",
    "            event_df.append(t_df)\n",
    "event_df = pd.DataFrame(event_df)"
   ]
  },
  {
   "cell_type": "code",
   "execution_count": 6,
   "metadata": {},
   "outputs": [],
   "source": [
    "def time_seg(minute, period):\n",
    "    # 전반(10), 후반(10) 하여 1-20 frame 으로 분할\n",
    "    if period == 1:\n",
    "        seg = minute // 5\n",
    "        if seg >= 10 :\n",
    "            seg = 9\n",
    "    else : \n",
    "        seg = minute // 5\n",
    "        if seg <= 9 :\n",
    "            seg = 10\n",
    "        elif seg >= 20:\n",
    "            seg = 19\n",
    "    return seg+1"
   ]
  },
  {
   "cell_type": "code",
   "execution_count": 7,
   "metadata": {},
   "outputs": [],
   "source": [
    "def game_state_preprocessing(event_df, result_df):\n",
    "    # home & awayteam\n",
    "    home_team = result_df['home_team']\n",
    "    away_team = result_df['away_team']\n",
    "\n",
    "    # 전체 누적 값, 이전 10분 값 columns 구분하여 전처리\n",
    "    cumsum_col = ['Goal', 'Yellow Card', 'Red Card']\n",
    "    rangesum_col = ['Corner', 'Foul Committed', 'Shot', 'Pass Offside']\n",
    "\n",
    "\n",
    "    t_event_event = event_df.copy()\n",
    "    t_event_event['frame'] = [time_seg(t_event_event['minute'].iloc[i], t_event_event['period'].iloc[i]) for i in range(len(t_event_event))]\n",
    "    table = pd.pivot_table(t_event_event, values ='period', index=['team_name', 'frame'],\n",
    "                        columns=['feature_type'], aggfunc=\"count\").fillna(0)\n",
    "\n",
    "    # 해당 경기에서 발생하지 않은 이벤트 column 추가\n",
    "    table[list(set(cumsum_col + rangesum_col).difference(table.columns))] = 0\n",
    "    table = table[['Yellow Card', 'Red Card', 'Goal', 'Corner', 'Foul Committed', 'Shot', 'Pass Offside']]\n",
    "    # 슛팅 숫자 = 슛 이벤트 + 골 이벤트\n",
    "    table['Shot'] = table['Shot'] + table['Goal']\n",
    "\n",
    "    h_table = table.loc[[j[0] == home_team for j in table.index]].reset_index('frame').set_index('frame')\n",
    "    a_table = table.loc[[j[0] == away_team for j in table.index]].reset_index('frame').set_index('frame')\n",
    "    \n",
    "    zero_df = pd.DataFrame(columns=table.columns, index=np.arange(1,21), data=0)\n",
    "    h_table = zero_df + h_table\n",
    "    a_table = zero_df + a_table\n",
    "    h_table.fillna(0, inplace=True)\n",
    "    a_table.fillna(0, inplace=True)\n",
    "\n",
    "    h_table[cumsum_col] = h_table[cumsum_col].cumsum()\n",
    "    h_table[rangesum_col] = h_table[rangesum_col] + h_table[rangesum_col].shift(1).fillna(0)\n",
    "\n",
    "    a_table[cumsum_col] = a_table[cumsum_col].cumsum()\n",
    "    a_table[rangesum_col] = a_table[rangesum_col] + a_table[rangesum_col].shift(1).fillna(0)\n",
    "\n",
    "    return h_table, a_table"
   ]
  },
  {
   "cell_type": "code",
   "execution_count": 8,
   "metadata": {},
   "outputs": [],
   "source": [
    "h_table, a_table = game_state_preprocessing(event_df, {'home_team':'전북', 'away_team':'울산'})"
   ]
  },
  {
   "cell_type": "markdown",
   "metadata": {},
   "source": []
  },
  {
   "cell_type": "code",
   "execution_count": 9,
   "metadata": {},
   "outputs": [
    {
     "data": {
      "text/html": [
       "<div>\n",
       "<style scoped>\n",
       "    .dataframe tbody tr th:only-of-type {\n",
       "        vertical-align: middle;\n",
       "    }\n",
       "\n",
       "    .dataframe tbody tr th {\n",
       "        vertical-align: top;\n",
       "    }\n",
       "\n",
       "    .dataframe thead th {\n",
       "        text-align: right;\n",
       "    }\n",
       "</style>\n",
       "<table border=\"1\" class=\"dataframe\">\n",
       "  <thead>\n",
       "    <tr style=\"text-align: right;\">\n",
       "      <th>feature_type</th>\n",
       "      <th>Yellow Card</th>\n",
       "      <th>Red Card</th>\n",
       "      <th>Goal</th>\n",
       "      <th>Corner</th>\n",
       "      <th>Foul Committed</th>\n",
       "      <th>Shot</th>\n",
       "      <th>Pass Offside</th>\n",
       "    </tr>\n",
       "  </thead>\n",
       "  <tbody>\n",
       "    <tr>\n",
       "      <th>1</th>\n",
       "      <td>0.0</td>\n",
       "      <td>0.0</td>\n",
       "      <td>0.0</td>\n",
       "      <td>0.0</td>\n",
       "      <td>1.0</td>\n",
       "      <td>1.0</td>\n",
       "      <td>0.0</td>\n",
       "    </tr>\n",
       "    <tr>\n",
       "      <th>2</th>\n",
       "      <td>1.0</td>\n",
       "      <td>0.0</td>\n",
       "      <td>0.0</td>\n",
       "      <td>1.0</td>\n",
       "      <td>2.0</td>\n",
       "      <td>1.0</td>\n",
       "      <td>0.0</td>\n",
       "    </tr>\n",
       "    <tr>\n",
       "      <th>3</th>\n",
       "      <td>1.0</td>\n",
       "      <td>0.0</td>\n",
       "      <td>0.0</td>\n",
       "      <td>1.0</td>\n",
       "      <td>2.0</td>\n",
       "      <td>0.0</td>\n",
       "      <td>0.0</td>\n",
       "    </tr>\n",
       "    <tr>\n",
       "      <th>4</th>\n",
       "      <td>1.0</td>\n",
       "      <td>0.0</td>\n",
       "      <td>0.0</td>\n",
       "      <td>0.0</td>\n",
       "      <td>1.0</td>\n",
       "      <td>1.0</td>\n",
       "      <td>0.0</td>\n",
       "    </tr>\n",
       "    <tr>\n",
       "      <th>5</th>\n",
       "      <td>1.0</td>\n",
       "      <td>0.0</td>\n",
       "      <td>1.0</td>\n",
       "      <td>0.0</td>\n",
       "      <td>1.0</td>\n",
       "      <td>3.0</td>\n",
       "      <td>0.0</td>\n",
       "    </tr>\n",
       "  </tbody>\n",
       "</table>\n",
       "</div>"
      ],
      "text/plain": [
       "feature_type  Yellow Card  Red Card  Goal  Corner  Foul Committed  Shot  \\\n",
       "1                     0.0       0.0   0.0     0.0             1.0   1.0   \n",
       "2                     1.0       0.0   0.0     1.0             2.0   1.0   \n",
       "3                     1.0       0.0   0.0     1.0             2.0   0.0   \n",
       "4                     1.0       0.0   0.0     0.0             1.0   1.0   \n",
       "5                     1.0       0.0   1.0     0.0             1.0   3.0   \n",
       "\n",
       "feature_type  Pass Offside  \n",
       "1                      0.0  \n",
       "2                      0.0  \n",
       "3                      0.0  \n",
       "4                      0.0  \n",
       "5                      0.0  "
      ]
     },
     "execution_count": 9,
     "metadata": {},
     "output_type": "execute_result"
    }
   ],
   "source": [
    "a_table.head()"
   ]
  },
  {
   "cell_type": "markdown",
   "metadata": {},
   "source": [
    "#### Elo rating\n",
    "- 작년 순위 : 전북(4), 울산(1)"
   ]
  },
  {
   "cell_type": "code",
   "execution_count": 10,
   "metadata": {},
   "outputs": [
    {
     "name": "stdout",
     "output_type": "stream",
     "text": [
      "홈팀 전북(4위) : 1650.0, 어웨이팀 울산(1위) : 1800.0\n"
     ]
    }
   ],
   "source": [
    "# 전북 4위 \n",
    "h_elo = 1200 + (600*(13-4)/12)\n",
    "# 울산 1위\n",
    "a_elo = 1200 + (600*(13-1)/12)\n",
    "print(\"홈팀 전북(4위) : {}, 어웨이팀 울산(1위) : {}\".format(h_elo, a_elo))"
   ]
  },
  {
   "cell_type": "code",
   "execution_count": 11,
   "metadata": {},
   "outputs": [],
   "source": [
    "h_table['elo_diff'] = (h_elo-a_elo)/100\n",
    "h_table['goal diff'] = h_table['Goal'] - a_table['Goal']\n",
    "a_table['elo_diff'] = (a_elo-h_elo)/100\n",
    "a_table['goal diff'] = a_table['Goal'] - h_table['Goal']"
   ]
  },
  {
   "cell_type": "code",
   "execution_count": 12,
   "metadata": {},
   "outputs": [
    {
     "data": {
      "text/html": [
       "<div>\n",
       "<style scoped>\n",
       "    .dataframe tbody tr th:only-of-type {\n",
       "        vertical-align: middle;\n",
       "    }\n",
       "\n",
       "    .dataframe tbody tr th {\n",
       "        vertical-align: top;\n",
       "    }\n",
       "\n",
       "    .dataframe thead th {\n",
       "        text-align: right;\n",
       "    }\n",
       "</style>\n",
       "<table border=\"1\" class=\"dataframe\">\n",
       "  <thead>\n",
       "    <tr style=\"text-align: right;\">\n",
       "      <th>feature_type</th>\n",
       "      <th>Yellow Card</th>\n",
       "      <th>Red Card</th>\n",
       "      <th>Goal</th>\n",
       "      <th>Corner</th>\n",
       "      <th>Foul Committed</th>\n",
       "      <th>Shot</th>\n",
       "      <th>Pass Offside</th>\n",
       "      <th>elo_diff</th>\n",
       "      <th>goal diff</th>\n",
       "    </tr>\n",
       "  </thead>\n",
       "  <tbody>\n",
       "    <tr>\n",
       "      <th>1</th>\n",
       "      <td>0.0</td>\n",
       "      <td>0.0</td>\n",
       "      <td>0.0</td>\n",
       "      <td>0.0</td>\n",
       "      <td>0.0</td>\n",
       "      <td>0.0</td>\n",
       "      <td>0.0</td>\n",
       "      <td>-1.5</td>\n",
       "      <td>0.0</td>\n",
       "    </tr>\n",
       "    <tr>\n",
       "      <th>2</th>\n",
       "      <td>0.0</td>\n",
       "      <td>0.0</td>\n",
       "      <td>0.0</td>\n",
       "      <td>0.0</td>\n",
       "      <td>2.0</td>\n",
       "      <td>2.0</td>\n",
       "      <td>0.0</td>\n",
       "      <td>-1.5</td>\n",
       "      <td>0.0</td>\n",
       "    </tr>\n",
       "    <tr>\n",
       "      <th>3</th>\n",
       "      <td>0.0</td>\n",
       "      <td>0.0</td>\n",
       "      <td>0.0</td>\n",
       "      <td>0.0</td>\n",
       "      <td>2.0</td>\n",
       "      <td>2.0</td>\n",
       "      <td>0.0</td>\n",
       "      <td>-1.5</td>\n",
       "      <td>0.0</td>\n",
       "    </tr>\n",
       "    <tr>\n",
       "      <th>4</th>\n",
       "      <td>0.0</td>\n",
       "      <td>0.0</td>\n",
       "      <td>0.0</td>\n",
       "      <td>0.0</td>\n",
       "      <td>0.0</td>\n",
       "      <td>0.0</td>\n",
       "      <td>0.0</td>\n",
       "      <td>-1.5</td>\n",
       "      <td>0.0</td>\n",
       "    </tr>\n",
       "    <tr>\n",
       "      <th>5</th>\n",
       "      <td>0.0</td>\n",
       "      <td>0.0</td>\n",
       "      <td>0.0</td>\n",
       "      <td>0.0</td>\n",
       "      <td>0.0</td>\n",
       "      <td>1.0</td>\n",
       "      <td>0.0</td>\n",
       "      <td>-1.5</td>\n",
       "      <td>-1.0</td>\n",
       "    </tr>\n",
       "  </tbody>\n",
       "</table>\n",
       "</div>"
      ],
      "text/plain": [
       "feature_type  Yellow Card  Red Card  Goal  Corner  Foul Committed  Shot  \\\n",
       "1                     0.0       0.0   0.0     0.0             0.0   0.0   \n",
       "2                     0.0       0.0   0.0     0.0             2.0   2.0   \n",
       "3                     0.0       0.0   0.0     0.0             2.0   2.0   \n",
       "4                     0.0       0.0   0.0     0.0             0.0   0.0   \n",
       "5                     0.0       0.0   0.0     0.0             0.0   1.0   \n",
       "\n",
       "feature_type  Pass Offside  elo_diff  goal diff  \n",
       "1                      0.0      -1.5        0.0  \n",
       "2                      0.0      -1.5        0.0  \n",
       "3                      0.0      -1.5        0.0  \n",
       "4                      0.0      -1.5        0.0  \n",
       "5                      0.0      -1.5       -1.0  "
      ]
     },
     "execution_count": 12,
     "metadata": {},
     "output_type": "execute_result"
    }
   ],
   "source": [
    "h_table.head()"
   ]
  },
  {
   "cell_type": "markdown",
   "metadata": {},
   "source": [
    "#### 예측 결과"
   ]
  },
  {
   "cell_type": "code",
   "execution_count": 13,
   "metadata": {},
   "outputs": [],
   "source": [
    "results = [model.predict(h_table.loc[i].values, a_table.loc[i].values, i) for i in range(1,20)]"
   ]
  },
  {
   "cell_type": "code",
   "execution_count": 14,
   "metadata": {},
   "outputs": [],
   "source": [
    "results_df = pd.DataFrame()\n",
    "w = np.array([i[0] for i in results])\n",
    "d = np.array([i[1] for i in results])\n",
    "l = 1 - w - d"
   ]
  },
  {
   "cell_type": "code",
   "execution_count": 22,
   "metadata": {},
   "outputs": [
    {
     "data": {
      "image/png": "[encoded data removed]",
      "text/plain": [
       "<Figure size 1500x500 with 1 Axes>"
      ]
     },
     "metadata": {},
     "output_type": "display_data"
    }
   ],
   "source": [
    "fig = plt.figure(figsize=(15,5))\n",
    "plt.bar(x=range(1,20), height=w, color='green', alpha=0.5, width=1)\n",
    "plt.bar(x=range(1,20), height=d, bottom=w, color ='gray', alpha=0.5, width=1)\n",
    "plt.bar(x=range(1,20), height=l, bottom=w+d, color='blue', alpha=0.5, width=1)\n",
    "\n",
    "plt.xticks(range(1,20), [5, 10, 15, 20, 25, 30, 35, 40, 45, '전반종료',\n",
    "                         50, 55, 60, 65, 70, 75, 80, 85, 90])\n",
    "plt.xlabel('경기시간')\n",
    "plt.yticks(np.arange(0.1,1.1,0.1), [10, 20, 30, 40, 50, 60, 70, 80, 90, 100])\n",
    "plt.ylabel('승 무 패 확률')\n",
    "plt.title('전북 VS 울산');"
   ]
  },
  {
   "cell_type": "code",
   "execution_count": null,
   "metadata": {},
   "outputs": [],
   "source": []
  }
 ],
 "metadata": {
  "kernelspec": {
   "display_name": "pytorch",
   "language": "python",
   "name": "python3"
  },
  "language_info": {
   "codemirror_mode": {
    "name": "ipython",
    "version": 3
   },
   "file_extension": ".py",
   "mimetype": "text/x-python",
   "name": "python",
   "nbconvert_exporter": "python",
   "pygments_lexer": "ipython3",
   "version": "3.11.4"
  }
 },
 "nbformat": 4,
 "nbformat_minor": 2
}
