{
 "cells": [
  {
   "cell_type": "code",
   "execution_count": 242,
   "metadata": {},
   "outputs": [],
   "source": [
    "import pandas as pd\n",
    "import json\n",
    "import matplotlib.pyplot as plt\n",
    "import numpy as np\n",
    "import seaborn as sns\n",
    "from scipy.stats import poisson\n",
    "import pytensor.tensor as pt"
   ]
  },
  {
   "cell_type": "code",
   "execution_count": 239,
   "metadata": {},
   "outputs": [],
   "source": [
    "final_data = pd.read_pickle('./data/final_data.pkl')\n",
    "train_data = pd.read_pickle('./data/train_data.pkl')\n",
    "approx_sample = pd.read_pickle('./results/sampling_results.pkl')"
   ]
  },
  {
   "cell_type": "markdown",
   "metadata": {},
   "source": [
    "#### 추정된 Parameter 값 가져오기"
   ]
  },
  {
   "cell_type": "code",
   "execution_count": 240,
   "metadata": {},
   "outputs": [],
   "source": [
    "alpha = {}\n",
    "alpha[1] = approx_sample.posterior.alpha_1.values.mean(axis=1)\n",
    "alpha[2] = approx_sample.posterior.alpha_2.values.mean(axis=1)\n",
    "alpha[3] = approx_sample.posterior.alpha_3.values.mean(axis=1)\n",
    "alpha[4] = approx_sample.posterior.alpha_4.values.mean(axis=1)\n",
    "alpha[5] = approx_sample.posterior.alpha_5.values.mean(axis=1)\n",
    "alpha[6] = approx_sample.posterior.alpha_6.values.mean(axis=1)\n",
    "alpha[7] = approx_sample.posterior.alpha_7.values.mean(axis=1)\n",
    "alpha[8] = approx_sample.posterior.alpha_8.values.mean(axis=1)\n",
    "alpha[9] = approx_sample.posterior.alpha_9.values.mean(axis=1)\n",
    "alpha[10] = approx_sample.posterior.alpha_10.values.mean(axis=1)\n",
    "alpha[11] = approx_sample.posterior.alpha_11.values.mean(axis=1)\n",
    "alpha[12] = approx_sample.posterior.alpha_12.values.mean(axis=1)\n",
    "alpha[13] = approx_sample.posterior.alpha_13.values.mean(axis=1)\n",
    "alpha[14] = approx_sample.posterior.alpha_14.values.mean(axis=1)\n",
    "alpha[15] = approx_sample.posterior.alpha_15.values.mean(axis=1)\n",
    "alpha[16] = approx_sample.posterior.alpha_16.values.mean(axis=1)\n",
    "alpha[17] = approx_sample.posterior.alpha_17.values.mean(axis=1)\n",
    "alpha[18] = approx_sample.posterior.alpha_18.values.mean(axis=1)\n",
    "alpha[19] = approx_sample.posterior.alpha_19.values.mean(axis=1)\n",
    "beta = approx_sample.posterior.beta.values.mean()\n",
    "hw = approx_sample.posterior.home_ad.values.mean()"
   ]
  },
  {
   "cell_type": "code",
   "execution_count": 244,
   "metadata": {},
   "outputs": [],
   "source": [
    "#parameters = {'alpha':alpha, 'beta':beta, 'hw':hw}\n",
    "#with open('./model/parameters.pkl', 'wb') as f:    \n",
    "#    pickle.dump(parameters, f)"
   ]
  },
  {
   "cell_type": "markdown",
   "metadata": {},
   "source": [
    "#### 경기 예측 모형 만들기"
   ]
  },
  {
   "cell_type": "code",
   "execution_count": 191,
   "metadata": {},
   "outputs": [],
   "source": [
    "def predict(home_X, away_X, frame=1):\n",
    "    h_lambda = np.exp((home_X * alpha[frame]).sum() + beta + hw)\n",
    "    a_lambda = np.exp((away_X * alpha[frame]).sum() + beta)\n",
    "    \n",
    "    h_goal = home_X[2]\n",
    "    a_goal = away_X[2]\n",
    "\n",
    "    h_poisson = poisson((1-(frame/20))*h_lambda)\n",
    "    a_poisson = poisson((1-(frame/20))*a_lambda)\n",
    "\n",
    "    results = h_poisson.rvs(1000) - a_poisson.rvs(1000) + h_goal - a_goal\n",
    "    win_p = ((results>0).sum()/1000, (results==0).sum()/1000, (results<0).sum()/1000)\n",
    "\n",
    "    return win_p"
   ]
  },
  {
   "cell_type": "markdown",
   "metadata": {},
   "source": [
    "#### 평가지표 RPS(Rank Probability Score)"
   ]
  },
  {
   "cell_type": "code",
   "execution_count": 202,
   "metadata": {},
   "outputs": [],
   "source": [
    "def rps(output, y):\n",
    "    output = np.array(output)\n",
    "    y = np.array(y)\n",
    "    rps = 0\n",
    "    for i in range(len(y)):\n",
    "        rps += (y[:i+1].sum() - output[:i+1].sum())**2\n",
    "    return rps/(len(y)-1)"
   ]
  },
  {
   "cell_type": "code",
   "execution_count": 258,
   "metadata": {},
   "outputs": [
    {
     "data": {
      "text/plain": [
       "True"
      ]
     },
     "execution_count": 258,
     "metadata": {},
     "output_type": "execute_result"
    }
   ],
   "source": [
    "type([]) == list"
   ]
  },
  {
   "cell_type": "code",
   "execution_count": 256,
   "metadata": {},
   "outputs": [
    {
     "ename": "AttributeError",
     "evalue": "'list' object has no attribute 'astype'",
     "output_type": "error",
     "traceback": [
      "\u001b[0;31m---------------------------------------------------------------------------\u001b[0m",
      "\u001b[0;31mAttributeError\u001b[0m                            Traceback (most recent call last)",
      "Cell \u001b[0;32mIn[256], line 1\u001b[0m\n\u001b[0;32m----> 1\u001b[0m \u001b[43m[\u001b[49m\u001b[43m]\u001b[49m\u001b[38;5;241;43m.\u001b[39;49m\u001b[43mastype\u001b[49m(np\u001b[38;5;241m.\u001b[39mndarray)\n",
      "\u001b[0;31mAttributeError\u001b[0m: 'list' object has no attribute 'astype'"
     ]
    }
   ],
   "source": [
    "[].astype(np.ndarray)"
   ]
  },
  {
   "cell_type": "code",
   "execution_count": 253,
   "metadata": {},
   "outputs": [
    {
     "data": {
      "text/plain": [
       "numpy.ndarray"
      ]
     },
     "execution_count": 253,
     "metadata": {},
     "output_type": "execute_result"
    }
   ],
   "source": [
    "type(np.array([1,2,3,4,5]))"
   ]
  },
  {
   "cell_type": "code",
   "execution_count": 251,
   "metadata": {},
   "outputs": [
    {
     "ename": "AttributeError",
     "evalue": "'list' object has no attribute 'shape'",
     "output_type": "error",
     "traceback": [
      "\u001b[0;31m---------------------------------------------------------------------------\u001b[0m",
      "\u001b[0;31mAttributeError\u001b[0m                            Traceback (most recent call last)",
      "Cell \u001b[0;32mIn[251], line 1\u001b[0m\n\u001b[0;32m----> 1\u001b[0m \u001b[43m[\u001b[49m\u001b[38;5;241;43m1\u001b[39;49m\u001b[43m,\u001b[49m\u001b[38;5;241;43m2\u001b[39;49m\u001b[43m,\u001b[49m\u001b[38;5;241;43m3\u001b[39;49m\u001b[43m,\u001b[49m\u001b[38;5;241;43m4\u001b[39;49m\u001b[43m,\u001b[49m\u001b[38;5;241;43m5\u001b[39;49m\u001b[43m]\u001b[49m\u001b[38;5;241;43m.\u001b[39;49m\u001b[43mshape\u001b[49m\n",
      "\u001b[0;31mAttributeError\u001b[0m: 'list' object has no attribute 'shape'"
     ]
    }
   ],
   "source": [
    "[1,2,3,4,5].shape"
   ]
  },
  {
   "cell_type": "code",
   "execution_count": 219,
   "metadata": {},
   "outputs": [],
   "source": [
    "def home_win(score):\n",
    "    if score > 0 :\n",
    "        return (1, 0, 0)\n",
    "    elif score == 0 :\n",
    "        return (0, 1, 0)\n",
    "    else : \n",
    "        return (0, 0, 1)"
   ]
  },
  {
   "cell_type": "code",
   "execution_count": 221,
   "metadata": {},
   "outputs": [],
   "source": [
    "y_true = [home_win(final_data[i][0]['home_score'] - final_data[i][0]['away_score']) for i in final_data.keys()]"
   ]
  },
  {
   "cell_type": "code",
   "execution_count": 223,
   "metadata": {},
   "outputs": [
    {
     "data": {
      "text/plain": [
       "(20, 814, 9)"
      ]
     },
     "execution_count": 223,
     "metadata": {},
     "output_type": "execute_result"
    }
   ],
   "source": [
    "train_data['X']['home'].shape"
   ]
  },
  {
   "cell_type": "code",
   "execution_count": 225,
   "metadata": {},
   "outputs": [],
   "source": [
    "rps_list = []\n",
    "for frame in np.arange(1, 20):\n",
    "    t_rps = 0\n",
    "    for i in range(len(y_true)):\n",
    "        t_pred = predict(home_X= train_data['X']['home'][frame-1,i,:], away_X= train_data['X']['away'][frame-1,i,:], frame=frame)\n",
    "        t_y = y_true[i]\n",
    "        t_rps += rps(t_pred, t_y)\n",
    "    t_rps /= len(y_true)\n",
    "    rps_list.append(t_rps)"
   ]
  },
  {
   "cell_type": "markdown",
   "metadata": {},
   "source": [
    "#### 예측 시점 별 RPS 값"
   ]
  },
  {
   "cell_type": "code",
   "execution_count": 237,
   "metadata": {},
   "outputs": [
    {
     "data": {
      "image/png": "[encoded data removed]",
      "text/plain": [
       "<Figure size 640x480 with 1 Axes>"
      ]
     },
     "metadata": {},
     "output_type": "display_data"
    }
   ],
   "source": [
    "plt.plot(rps_list)\n",
    "plt.title(\"RPS / Frame\")\n",
    "plt.xticks(np.arange(0,20));"
   ]
  }
 ],
 "metadata": {
  "kernelspec": {
   "display_name": "pytorch",
   "language": "python",
   "name": "python3"
  },
  "language_info": {
   "codemirror_mode": {
    "name": "ipython",
    "version": 3
   },
   "file_extension": ".py",
   "mimetype": "text/x-python",
   "name": "python",
   "nbconvert_exporter": "python",
   "pygments_lexer": "ipython3",
   "version": "3.11.4"
  }
 },
 "nbformat": 4,
 "nbformat_minor": 2
}
