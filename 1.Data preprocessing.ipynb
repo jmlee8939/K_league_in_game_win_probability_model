{
 "cells": [
  {
   "cell_type": "code",
   "execution_count": 2,
   "metadata": {},
   "outputs": [
    {
     "name": "stderr",
     "output_type": "stream",
     "text": [
      "/Users/jaeminiman/anaconda3/envs/pytorch/lib/python3.11/site-packages/pandas/core/arrays/masked.py:60: UserWarning: Pandas requires version '1.3.6' or newer of 'bottleneck' (version '1.3.5' currently installed).\n",
      "  from pandas.core import (\n"
     ]
    }
   ],
   "source": [
    "import os\n",
    "import csv\n",
    "import pickle\n",
    "import pandas as pd\n",
    "import numpy as np\n",
    "from kloppy import statsbomb\n",
    "from tqdm import tqdm\n",
    "from mplsoccer.pitch import Pitch\n",
    "import matplotlib.pyplot as plt\n",
    "import seaborn as sns\n",
    "from mplsoccer import Sbopen\n",
    "\n",
    "import warnings\n",
    "warnings.filterwarnings('ignore')"
   ]
  },
  {
   "attachments": {},
   "cell_type": "markdown",
   "metadata": {},
   "source": [
    "#### 리그 데이터 풀 시즌으로 5개 정도?\n",
    "|idx| comp id | season id | comp name | year | 경기 횟수 | 특징 |\n",
    "|--|--|--|--|--|--|--|\n",
    "|1 |2  |27|PL      |15_16  |380 | 380경기 전경기 있음  |\n",
    "|2 |11 |42| LALIGA | 19_20 | 33 | 바르셀로나 경기만 있음 |\n",
    "|3 |11 |4 | LALIGA | 18_19 | 34 | 바르셀로나 경기만 있음 |\n",
    "|4 |11 |1 | LALIGA | 17_18 | 36 | 바르셀로나 경기만 있음 |\n",
    "|5 |7  |27|Ligue1  |15_16  |377 | 3경기 빼고 있음      |\n"
   ]
  },
  {
   "cell_type": "code",
   "execution_count": null,
   "metadata": {},
   "outputs": [],
   "source": [
    "print(\"총 경기 데이터 수 : {} 경기\".format(380 + 33 + 34 + 36 + 377))"
   ]
  },
  {
   "attachments": {},
   "cell_type": "markdown",
   "metadata": {},
   "source": [
    "#### Match id 불러오기"
   ]
  },
  {
   "cell_type": "code",
   "execution_count": null,
   "metadata": {},
   "outputs": [],
   "source": [
    "match_id_json = pd.DataFrame()\n",
    "for comp_id, season_id in [(2, 27), (11, 42), (11, 4), (11, 1), (7, 27)]:\n",
    "    t_df = pd.read_json(\"https://raw.githubusercontent.com/jmlee8939/open-data/master/data/matches/{}/{}.json\".format(comp_id, season_id))\n",
    "    t_df['comp_id'] = comp_id\n",
    "    t_df['season_id'] = season_id\n",
    "    match_id_json = pd.concat([match_id_json, t_df], axis=0)\n",
    "match_id_json.reset_index(inplace=True)"
   ]
  },
  {
   "cell_type": "code",
   "execution_count": null,
   "metadata": {},
   "outputs": [],
   "source": [
    "print(\"총 데이터 셋 : {} 개\".format(len(match_id_json)))"
   ]
  },
  {
   "cell_type": "code",
   "execution_count": null,
   "metadata": {},
   "outputs": [],
   "source": [
    "match_id = match_id_json['match_id'].to_list()"
   ]
  },
  {
   "attachments": {},
   "cell_type": "markdown",
   "metadata": {},
   "source": [
    "#### mplsoccer 라이브러리 활용해서 전처리"
   ]
  },
  {
   "cell_type": "code",
   "execution_count": null,
   "metadata": {},
   "outputs": [],
   "source": [
    "def filter(event_df) :\n",
    "    # 경기 상황 변수(Game states)로 활용될 이벤트 종류\n",
    "    # 슛\n",
    "    shot_bool = (event_df.type_name == 'Shot')\n",
    "    # 옐로우 카드\n",
    "    yellow_bool = (event_df.foul_committed_card_name == 'Yellow Card')\n",
    "    # 레드 카드\n",
    "    red_bool = (event_df.foul_committed_card_name == 'Red Card')\n",
    "    # 골\n",
    "    goal_bool = (event_df.outcome_name == 'Goal')\n",
    "    # 파울\n",
    "    foul_bool = (event_df.type_name == 'Foul Committed')\n",
    "    # 코너킥\n",
    "    corner_bool = (event_df.sub_type_name == 'Corner')\n",
    "    # 오프사이드\n",
    "    offside_bool = (event_df.outcome_name == 'Pass Offside')\n",
    "\n",
    "    output_df = event_df[shot_bool | yellow_bool | red_bool | goal_bool | foul_bool | corner_bool | offside_bool].copy()\n",
    "    output_df['feature_type'] = 0\n",
    "    output_df.loc[shot_bool,'feature_type'] = 'Shot'\n",
    "    output_df.loc[foul_bool, 'feature_type'] = 'Foul Committed'\n",
    "    output_df.loc[yellow_bool, 'feature_type'] = 'Yellow Card'\n",
    "    output_df.loc[red_bool, 'feature_type'] = 'Red Card'\n",
    "    output_df.loc[goal_bool, 'feature_type'] = 'Goal'\n",
    "    output_df.loc[corner_bool, 'feature_type'] = 'Corner'\n",
    "    output_df.loc[offside_bool, 'feature_type'] = 'Pass Offside'\n",
    "    return (output_df[['period', 'minute', 'team_name', 'feature_type']])"
   ]
  },
  {
   "cell_type": "code",
   "execution_count": null,
   "metadata": {},
   "outputs": [],
   "source": [
    "parser = Sbopen()\n",
    "match_event_dict = {}\n",
    "fail_match_list = []\n",
    "\n",
    "for i in tqdm(range(len(match_id_json)), \"전처리 진행한 경기 수\", mininterval = 0.1) :\n",
    "    t_df = match_id_json.loc[i,['match_date', 'home_score', 'away_score']]\n",
    "    \n",
    "    t_match_info = match_id_json.loc[i,:]\n",
    "\n",
    "    t_season_id = t_match_info['season_id']\n",
    "    t_comp_id = t_match_info['comp_id']\n",
    "    t_match_id = t_match_info['match_id']\n",
    "\n",
    "    t_df['home_team'] = t_match_info['home_team']['home_team_name']\n",
    "    t_df['away_team'] = t_match_info['away_team']['away_team_name']\n",
    "    \n",
    "    try : \n",
    "        event_df, _, _, _ = parser.event(t_match_id)\n",
    "        event_df = filter(event_df)\n",
    "        \n",
    "        match_event_dict[t_match_id] = [t_df, event_df]\n",
    "    except :\n",
    "        fail_match_list.append([t_comp_id, t_season_id, t_match_id])"
   ]
  },
  {
   "cell_type": "code",
   "execution_count": null,
   "metadata": {},
   "outputs": [],
   "source": [
    "print(\"정상적으로 전처리된 최종 경기수 : {} 경기\".format(len(match_event_dict.keys())))"
   ]
  },
  {
   "cell_type": "markdown",
   "metadata": {},
   "source": [
    "#### 1차 전처리 한 데이터 pkl 형태로 저장"
   ]
  },
  {
   "cell_type": "code",
   "execution_count": null,
   "metadata": {},
   "outputs": [],
   "source": [
    "#with open('./data/preprocessing_1.pkl', 'wb') as f:\n",
    "#    pickle.dump(match_event_dict, f)"
   ]
  },
  {
   "cell_type": "code",
   "execution_count": null,
   "metadata": {},
   "outputs": [],
   "source": [
    "mydict = pd.read_pickle('./data/preprocessing_1.pkl')"
   ]
  },
  {
   "attachments": {},
   "cell_type": "markdown",
   "metadata": {},
   "source": [
    "#### Elo-Rating 전처리"
   ]
  },
  {
   "attachments": {},
   "cell_type": "markdown",
   "metadata": {},
   "source": [
    "1. 전 시즌 순위로 1200-1800 까지 균등 배분\n",
    "2. 시즌 중 경기결과는 elo-rating 에 반영 "
   ]
  },
  {
   "attachments": {},
   "cell_type": "markdown",
   "metadata": {},
   "source": [
    "https://eloratings.net/ 의 공식 \n",
    "\n",
    "$$ R_n = R_o + K * (W - W_e) $$\n",
    "$$ W_e = 1 / (10^{(-dr/400)} + 1) $$"
   ]
  },
  {
   "cell_type": "code",
   "execution_count": null,
   "metadata": {},
   "outputs": [],
   "source": [
    "def elo(h_elo, a_elo, result):\n",
    "    dr = h_elo - a_elo\n",
    "\n",
    "    if result > 0:\n",
    "        h_result = 1\n",
    "        a_result = 0\n",
    "    elif result == 0:\n",
    "        h_result = 0.5\n",
    "        a_result = 0.5\n",
    "    else :\n",
    "        h_result = 0\n",
    "        a_result = 1\n",
    "\n",
    "    h_we = 1/(10**(-dr/400)+1)\n",
    "    a_we = 1/(10**(dr/400)+1)\n",
    "\n",
    "    # K value for league match is 20\n",
    "\n",
    "    h_e = h_elo + 20*(h_result - h_we)\n",
    "    a_e = a_elo + 20*(a_result - a_we)\n",
    "\n",
    "    return int(h_e), int(a_e)"
   ]
  },
  {
   "cell_type": "code",
   "execution_count": null,
   "metadata": {},
   "outputs": [],
   "source": [
    "elo(1700, 1400, 0)"
   ]
  },
  {
   "cell_type": "markdown",
   "metadata": {},
   "source": [
    "### 필요한 시즌 경기 데이터\n",
    "- PL 1516\n",
    "- LALIGA 1718, 1819, 1920\n",
    "- Ligue1 1516"
   ]
  },
  {
   "attachments": {},
   "cell_type": "markdown",
   "metadata": {},
   "source": [
    "#### 전 시즌 순위\n",
    "\n",
    "|전시즌 순위 | PL 1415 | LIGA 1617 | LIGUE1 1415 | elo-rating |\n",
    "|--|--|--|--|--|\n",
    "| 1| Chelsea | Real Madrid | Paris Saint-Germain | 1800|\n",
    "| 2| Manchester City | Barcelona | Lyon | 1766|\n",
    "| 3| Arsenal | Atletico Madrid | Monaco | 1733|\n",
    "| 4| Manchester United | Sevilla | Marseille | 1700|\n",
    "| 5| Tottenham | Villarreal | Saint-Etienne | 1666|\n",
    "| 6| Liverpool | Real Sociedad | Bordeaux | 1633|\n",
    "| 7| Southampton | Athletic Bilbao | Montpellier | 1600|\n",
    "| 8| Swansea | Espanyol | Lille | 1566|\n",
    "| 9| Stoke | Deportivo Alaves  | Rennes | 1533|\n",
    "| 10| Crystal Palace | Eibar | Guingamp | 1500|\n",
    "| 11| Everton | Malaga | Nice | 1466|\n",
    "| 12| West Ham | Valencia | SC Bastia | 1433|\n",
    "| 13| West Bromwich Albion | Celta Vigo | Caen | 1400|\n",
    "| 14| Leicester | Las Palmas | Nantes | 1366|\n",
    "| 15| Newcastle United | Real Betis | Reims | 1333|\n",
    "| 16| Sunderland | Deportivo La Coruna | Lorient | 1300|\n",
    "| 17| Aston Villa | Leganes | Toulouse | 1266|\n",
    "| 2부| Bournemouth | Getafe | Angers | 1200|\n",
    "| 2부| Norwich | Athletic Bilbao | GFC Ajaccio | 1200|\n",
    "| 2부| Watford | Rayo Vallecano | Troyes | 1200|\n",
    "| 2부| | SD Huesca || 1200|\n",
    "| 2부| | Real Valladolid || 1200|\n",
    "| 2부| | Levante || 1200|\n",
    "| 2부| | Granada || 1200|\n",
    "| 2부| | Mallorca || 1200|\n",
    "| 2부| | Osasuna || 1200|"
   ]
  },
  {
   "attachments": {},
   "cell_type": "markdown",
   "metadata": {},
   "source": [
    "##### 시즌 시작 전 elo-rating initital value"
   ]
  },
  {
   "cell_type": "code",
   "execution_count": null,
   "metadata": {},
   "outputs": [],
   "source": [
    "elo_dict_PL = {'Chelsea' : 1800, 'Manchester City' : 1766, 'Arsenal' : 1733, 'Manchester United' : 1700, 'Tottenham' : 1666, 'Liverpool' : 1633, 'Southampton' : 1600,\n",
    "            'Swansea' : 1566, 'Stoke' : 1533, 'Crystal Palace' : 1500, 'Everton' : 1466, 'West Ham' : 1433, 'West Bromwich Albion' : 1400,\n",
    "            'Leicester' : 1366, 'Newcastle United' : 1333, 'Sunderland' : 1300, 'Aston Villa' : 1266, 'Bournemouth' : 1200, 'Norwich' : 1200, 'Watford' : 1200}\n",
    "\n",
    "elo_dict_LIGA = {'Real Madrid' : 1800, 'Barcelona' : 1766, 'Atletico Madrid' : 1733, 'Sevilla' : 1700, 'Villarreal' : 1666, 'Real Sociedad' : 1633, 'Athletic Bilbao' : 1600,\n",
    "            'Espanyol' : 1566, 'Deportivo Alaves' : 1533, 'Eibar' : 1500, 'Malaga' : 1466, 'Valencia' : 1433, 'Celta Vigo' : 1400,\n",
    "            'Las Palmas' : 1366, 'Real Betis' : 1333, 'Deportivo La Coruna' : 1300, 'Leganes' : 1266, 'Getafe' : 1200, \n",
    "            'Levante' : 1200, 'Rayo Vallecano' : 1200, 'SD Huesca' : 1200, 'Real Valladolid' : 1200, 'Girona' : 1200, 'Granada' : 1200,\n",
    "            'Mallorca' : 1200, 'Osasuna' : 1200\n",
    "}\n",
    "\n",
    "elo_dict_LIGUE1 = {'Paris Saint-Germain' : 1800, 'Lyon' : 1766, 'Monaco' : 1733, 'Marseille' : 1700, 'Saint-Etienne' : 1666, 'Bordeaux' : 1633, 'Montpellier' : 1600,\n",
    "            'Lille' : 1566, 'Rennes' : 1533, 'Guingamp' : 1500, 'Nice' : 1466, 'SC Bastia' : 1433, 'Caen' : 1400,\n",
    "            'Nantes' : 1366, 'Reims' : 1333, 'Lorient' : 1300, 'Toulouse' : 1266, 'Angers' : 1200, 'GFC Ajaccio' : 1200, 'Troyes' : 1200}\n"
   ]
  },
  {
   "cell_type": "markdown",
   "metadata": {},
   "source": [
    "#### 경기 데이터 전처리"
   ]
  },
  {
   "cell_type": "code",
   "execution_count": null,
   "metadata": {},
   "outputs": [],
   "source": [
    "def preprocess_match_data(df):\n",
    "    # 날짜 타입 변경\n",
    "    month_dict = {'Jan':1, 'Feb':2, 'Mac':3, 'Apr':4, 'Mei':5, 'Jun':6, 'Jul':7, 'Ago':8, 'Sep':9, 'Okt':10, 'Nov':11, 'Des':12}\n",
    "    t_df = df[['date', 'home', 'away', 'full_home_score', 'full_away_score']]\n",
    "    t_df['year'] = [i.split('-')[2] for i in t_df['date']]\n",
    "    t_df['month'] = [month_dict[i.split('-')[1]] for i in t_df['date']]\n",
    "    t_df['day'] = [i.split(' ')[1].split('-')[0] for i in t_df['date']]\n",
    "    t_df['date'] = ['/'.join([str(t_df.iloc[i,:]['month']), t_df.iloc[i,:]['day'], t_df.iloc[i,:]['year']])  for i in range(len(t_df))]\n",
    "    t_df['date'] = pd.to_datetime(t_df['date'])\n",
    "    t_df['result'] = t_df['full_home_score'] - t_df['full_away_score']\n",
    "    t_df.sort_values(by='date', inplace=True)\n",
    "    t_df.reset_index(drop=True, inplace=True)\n",
    "    teams = list(set(t_df['home']) | set(t_df['away']))\n",
    "    return t_df, teams"
   ]
  },
  {
   "cell_type": "code",
   "execution_count": null,
   "metadata": {},
   "outputs": [],
   "source": [
    "PL1516 = pd.read_csv(\"./data/league_data/PL1516_match.csv\", index_col=0)\n",
    "LIGA1718 = pd.read_csv(\"./data/league_data/LIGA1718_match.csv\", index_col=0)\n",
    "LIGA1819 = pd.read_csv(\"./data/league_data/LIGA1819_match.csv\", index_col=0)\n",
    "LIGA1920 = pd.read_csv(\"./data/league_data/LIGA1920_match.csv\", index_col=0)\n",
    "LIGUE1_1516 = pd.read_csv(\"./data/league_data/LIGUE1_1516_match.csv\", index_col=0)"
   ]
  },
  {
   "cell_type": "code",
   "execution_count": null,
   "metadata": {},
   "outputs": [],
   "source": [
    "LIGA = pd.concat([LIGA1718, LIGA1819, LIGA1920], axis=0).reset_index(drop=True)"
   ]
  },
  {
   "cell_type": "code",
   "execution_count": null,
   "metadata": {},
   "outputs": [],
   "source": [
    "PL_df, pl_teams = preprocess_match_data(PL1516)\n",
    "LIGA_df, liga_teams = preprocess_match_data(LIGA)\n",
    "LIGUE1_df, ligue1_teams = preprocess_match_data(LIGUE1_1516)"
   ]
  },
  {
   "attachments": {},
   "cell_type": "markdown",
   "metadata": {},
   "source": [
    "#### 리그 별 elo-rating 변동 값 구하기"
   ]
  },
  {
   "cell_type": "code",
   "execution_count": null,
   "metadata": {},
   "outputs": [],
   "source": [
    "def elo_rating_df(elo_dictionary, match_df):\n",
    "    elo_dict = elo_dictionary.copy()\n",
    "    teams = list(elo_dict.keys())\n",
    "    elo_rating_df = pd.DataFrame(index = pd.date_range(start=match_df['date'][0].to_pydatetime(), end=match_df['date'][len(match_df)-1].to_pydatetime()), \n",
    "                                 columns=teams)\n",
    "    \n",
    "    # 경기 결과 있는 날 elo 업데이트\n",
    "    for i in elo_rating_df.index:\n",
    "        match_day = i.strftime('%Y-%m-%d')\n",
    "        boolean = match_df['date'] == match_day\n",
    "        t_df = match_df[boolean].reset_index(drop=True)\n",
    "        t_elo_dict = elo_dict.copy()\n",
    "        \n",
    "        for j in range(boolean.sum()):\n",
    "            home_team = t_df.loc[j, 'home']\n",
    "            away_team = t_df.loc[j, 'away']\n",
    "            result = t_df.loc[j, 'result']\n",
    "            \n",
    "            h_e, a_e = elo(elo_dict[home_team], elo_dict[away_team], result)\n",
    "            t_elo_dict[home_team] = h_e\n",
    "            t_elo_dict[away_team] = a_e\n",
    "    # 경기 전 elo 입력\n",
    "        elo_rating_df.loc[i] = elo_dict\n",
    "    # 경기 후 elo 업데이트    \n",
    "        elo_dict = t_elo_dict\n",
    "\n",
    "    return elo_rating_df"
   ]
  },
  {
   "cell_type": "code",
   "execution_count": null,
   "metadata": {},
   "outputs": [],
   "source": [
    "elo_PL = elo_rating_df(elo_dict_PL, PL_df)\n",
    "elo_LIGA = elo_rating_df(elo_dict_LIGA, LIGA_df)\n",
    "elo_LIGUE1 = elo_rating_df(elo_dict_LIGUE1, LIGUE1_df)"
   ]
  },
  {
   "cell_type": "markdown",
   "metadata": {},
   "source": [
    "#### elo 값 확인"
   ]
  },
  {
   "cell_type": "code",
   "execution_count": null,
   "metadata": {},
   "outputs": [],
   "source": [
    "plt.figure(figsize=(15, 5))\n",
    "g = sns.lineplot(data=elo_PL)\n",
    "sns.move_legend(g, loc=(1.01,0))\n",
    "g.set_title('Premier League')"
   ]
  },
  {
   "cell_type": "code",
   "execution_count": null,
   "metadata": {},
   "outputs": [],
   "source": [
    "plt.figure(figsize=(15, 5))\n",
    "g = sns.lineplot(data=elo_LIGA)\n",
    "sns.move_legend(g, loc=(1.01,0))\n",
    "g.set_title('La Liga')"
   ]
  },
  {
   "cell_type": "code",
   "execution_count": null,
   "metadata": {},
   "outputs": [],
   "source": [
    "plt.figure(figsize=(15, 5))\n",
    "g = sns.lineplot(data=elo_LIGUE1)\n",
    "sns.move_legend(g, loc=(1.01,0))\n",
    "g.set_title('League 1')"
   ]
  },
  {
   "cell_type": "code",
   "execution_count": null,
   "metadata": {},
   "outputs": [],
   "source": [
    "all_elo = pd.concat([elo_PL, elo_LIGA, elo_LIGUE1], axis=1)"
   ]
  },
  {
   "cell_type": "code",
   "execution_count": null,
   "metadata": {},
   "outputs": [],
   "source": [
    "all_elo.head()"
   ]
  },
  {
   "cell_type": "code",
   "execution_count": null,
   "metadata": {},
   "outputs": [],
   "source": [
    "all_elo.fillna(method='ffill', inplace=True)\n",
    "all_elo.fillna(method='bfill', inplace=True)"
   ]
  },
  {
   "attachments": {},
   "cell_type": "markdown",
   "metadata": {},
   "source": [
    "#### 경기 데이터에 elo rating 값 추가 "
   ]
  },
  {
   "cell_type": "code",
   "execution_count": null,
   "metadata": {},
   "outputs": [],
   "source": [
    "from difflib import get_close_matches"
   ]
  },
  {
   "cell_type": "code",
   "execution_count": null,
   "metadata": {},
   "outputs": [],
   "source": [
    "all_teams = set([mydict[i][0]['home_team'] for i in mydict.keys()]) | set([mydict[i][0]['away_team'] for i in mydict.keys()])\n",
    "all_teams_whos = pl_teams + liga_teams + ligue1_teams\n",
    "name_bridge_dict = {i : get_close_matches(i, all_teams_whos, 1, 0)[0] for i in list(all_teams)}"
   ]
  },
  {
   "cell_type": "code",
   "execution_count": null,
   "metadata": {},
   "outputs": [],
   "source": [
    "for i in mydict.keys():\n",
    "    t_df = mydict[i][0]\n",
    "    m_date = t_df['match_date']\n",
    "    h_team = t_df['home_team']\n",
    "    a_team = t_df['away_team']\n",
    "    mydict[i][0]['home elo'] = all_elo.loc[pd.to_datetime(m_date), name_bridge_dict[h_team]]\n",
    "    mydict[i][0]['away elo'] = all_elo.loc[pd.to_datetime(m_date), name_bridge_dict[a_team]]"
   ]
  },
  {
   "cell_type": "code",
   "execution_count": null,
   "metadata": {},
   "outputs": [],
   "source": [
    "#with open('./data/preprocessing_2.pkl', 'wb') as f:\n",
    "#    pickle.dump(mydict, f)"
   ]
  },
  {
   "cell_type": "code",
   "execution_count": 3,
   "metadata": {},
   "outputs": [],
   "source": [
    "mydict = pd.read_pickle('./data/preprocessing_2.pkl')"
   ]
  },
  {
   "attachments": {},
   "cell_type": "markdown",
   "metadata": {},
   "source": [
    "#### 시간대 별 경기 상황 변수 전처리\n",
    "- 한 경기를 20 등분 (5분 마다)\n",
    "- 누적 변수\n",
    "    - 득점\n",
    "    - 레드카드\n",
    "    - 옐로우 카드\n",
    "- 그 외 변수\n",
    "    - 10 분 내 슛 횟수\n",
    "    - 10 분 내 오프사이드 횟 수\n",
    "    - 10 분 내 파울 수\n",
    "    - 10 분 내 코너킥 수"
   ]
  },
  {
   "cell_type": "code",
   "execution_count": 4,
   "metadata": {},
   "outputs": [],
   "source": [
    "t_match_result, t_match_event = mydict[list(mydict.keys())[6]]"
   ]
  },
  {
   "cell_type": "code",
   "execution_count": 5,
   "metadata": {},
   "outputs": [
    {
     "data": {
      "text/plain": [
       "match_date              2016-05-15\n",
       "home_score                       1\n",
       "away_score                       1\n",
       "home_team     West Bromwich Albion\n",
       "away_team                Liverpool\n",
       "home elo                    1393.0\n",
       "away elo                    1568.0\n",
       "Name: 6, dtype: object"
      ]
     },
     "execution_count": 5,
     "metadata": {},
     "output_type": "execute_result"
    }
   ],
   "source": [
    "t_match_result"
   ]
  },
  {
   "cell_type": "code",
   "execution_count": 6,
   "metadata": {},
   "outputs": [],
   "source": [
    "def time_seg(minute, period):\n",
    "    # 전반(10), 후반(10) 하여 1-20 frame 으로 분할\n",
    "    if period == 1:\n",
    "        seg = minute // 5\n",
    "        if seg >= 10 :\n",
    "            seg = 9\n",
    "    else : \n",
    "        seg = minute // 5\n",
    "        if seg <= 9 :\n",
    "            seg = 10\n",
    "        elif seg >= 20:\n",
    "            seg = 19\n",
    "    return seg+1"
   ]
  },
  {
   "cell_type": "code",
   "execution_count": 7,
   "metadata": {},
   "outputs": [],
   "source": [
    "def game_state_preprocessing(event_df, result_df):\n",
    "    # home & awayteam\n",
    "    home_team = result_df['home_team']\n",
    "    away_team = result_df['away_team']\n",
    "\n",
    "    # 전체 누적 값, 이전 10분 값 columns 구분하여 전처리\n",
    "    cumsum_col = ['Goal', 'Yellow Card', 'Red Card']\n",
    "    rangesum_col = ['Corner', 'Foul Committed', 'Shot', 'Pass Offside']\n",
    "\n",
    "\n",
    "    t_event_event = event_df.copy()\n",
    "    t_event_event['frame'] = [time_seg(t_event_event['minute'].iloc[i], t_event_event['period'].iloc[i]) for i in range(len(t_event_event))]\n",
    "    table = pd.pivot_table(t_event_event, values ='period', index=['team_name', 'frame'],\n",
    "                        columns=['feature_type'], aggfunc=\"count\").fillna(0)\n",
    "\n",
    "    # 해당 경기에서 발생하지 않은 이벤트 column 추가\n",
    "    table[list(set(cumsum_col + rangesum_col).difference(table.columns))] = 0\n",
    "    table = table[['Yellow Card', 'Red Card', 'Goal', 'Corner', 'Foul Committed', 'Shot', 'Pass Offside']]\n",
    "    # 슛팅 숫자 = 슛 이벤트 + 골 이벤트\n",
    "    table['Shot'] = table['Shot'] + table['Goal']\n",
    "\n",
    "    h_table = table.loc[[j[0] == home_team for j in table.index]].reset_index('frame').set_index('frame')\n",
    "    a_table = table.loc[[j[0] == away_team for j in table.index]].reset_index('frame').set_index('frame')\n",
    "    \n",
    "    zero_df = pd.DataFrame(columns=table.columns, index=np.arange(1,21), data=0)\n",
    "    h_table = zero_df + h_table\n",
    "    a_table = zero_df + a_table\n",
    "    h_table.fillna(0, inplace=True)\n",
    "    a_table.fillna(0, inplace=True)\n",
    "\n",
    "    h_table[cumsum_col] = h_table[cumsum_col].cumsum()\n",
    "    h_table[rangesum_col] = h_table[rangesum_col] + h_table[rangesum_col].shift(1).fillna(0)\n",
    "\n",
    "    a_table[cumsum_col] = a_table[cumsum_col].cumsum()\n",
    "    a_table[rangesum_col] = a_table[rangesum_col] + a_table[rangesum_col].shift(1).fillna(0)\n",
    "    return h_table, a_table"
   ]
  },
  {
   "cell_type": "code",
   "execution_count": 8,
   "metadata": {},
   "outputs": [
    {
     "name": "stderr",
     "output_type": "stream",
     "text": [
      "최종 전처리 진행한 경기 수: 100%|██████████| 814/814 [00:03<00:00, 264.20it/s]\n"
     ]
    }
   ],
   "source": [
    "final_dict ={}\n",
    "for i in tqdm(mydict.keys(), \"최종 전처리 진행한 경기 수\", mininterval=0.1):\n",
    "    final_dict[i] = []\n",
    "    final_dict[i].append(mydict[i][0])\n",
    "    h_tab, a_tab = game_state_preprocessing(mydict[i][1], mydict[i][0])\n",
    "    final_dict[i].append(h_tab)\n",
    "    final_dict[i].append(a_tab)"
   ]
  },
  {
   "cell_type": "code",
   "execution_count": 9,
   "metadata": {},
   "outputs": [],
   "source": [
    "with open('./data/final_data.pkl', 'wb') as f:\n",
    "    pickle.dump(final_dict, f)"
   ]
  },
  {
   "cell_type": "markdown",
   "metadata": {},
   "source": []
  }
 ],
 "metadata": {
  "kernelspec": {
   "display_name": "pytorch",
   "language": "python",
   "name": "python3"
  },
  "language_info": {
   "codemirror_mode": {
    "name": "ipython",
    "version": 3
   },
   "file_extension": ".py",
   "mimetype": "text/x-python",
   "name": "python",
   "nbconvert_exporter": "python",
   "pygments_lexer": "ipython3",
   "version": "3.11.4"
  },
  "orig_nbformat": 4,
  "vscode": {
   "interpreter": {
    "hash": "007922a2b4b06f8309f472d462d6e9950bbc911ef223bac712492de68a15c418"
   }
  }
 },
 "nbformat": 4,
 "nbformat_minor": 2
}
